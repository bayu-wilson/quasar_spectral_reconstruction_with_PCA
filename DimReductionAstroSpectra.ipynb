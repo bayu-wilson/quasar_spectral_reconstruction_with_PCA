{
 "cells": [
  {
   "cell_type": "code",
   "execution_count": 31,
   "id": "8d6646d5-c6b3-46dc-b135-0a8f179ff1e5",
   "metadata": {},
   "outputs": [],
   "source": [
    "import pandas as pd\n",
    "import matplotlib.pyplot as plt\n",
    "import numpy as np"
   ]
  },
  {
   "cell_type": "code",
   "execution_count": 24,
   "id": "27b6bd61-5a2b-42ce-92fb-52f8e6862f15",
   "metadata": {},
   "outputs": [],
   "source": [
    "def load_qso_data(cls,cat_index, tag, rescale_flux):\n",
    "    released_path = \"XQ100_data/released/{0}_uvb-vis.txt\".format(name) #2/11/21 changed released2 to released\n",
    "    "
   ]
  },
  {
   "cell_type": "code",
   "execution_count": 57,
   "id": "c42e538c-6acd-4a10-ab69-a621f7441e3a",
   "metadata": {},
   "outputs": [],
   "source": [
    "path_to_cat = \"XQ100_data/XQ-100_catalogue.txt\"\n",
    "catalog_table = pd.read_csv(path_to_cat,delim_whitespace=True,usecols=(3,6),\n",
    "                                names = (\"qso_name\",\"redshifts\"), comment='#')\n",
    "\n",
    "df_tot = pd.DataFrame()\n",
    "for i in range(len(catalog_table)):\n",
    "    name = catalog_table[\"qso_name\"].iloc[i]\n",
    "    redshift = catalog_table[\"redshifts\"].iloc[i]\n",
    "    released_path = \"XQ100_data/released/{0}_uvb-vis.txt\".format(name)\n",
    "    df_i = pd.read_csv(released_path, delim_whitespace=True, skiprows = 1,usecols=(0,1,2,3,4),\n",
    "                                        names = (\"wav\", \"flx\", \"ferr\", \"res\",\"dloglam\"))\n",
    "    df_i[\"qso_idx\"] = i\n",
    "    df_i[\"redshift\"] = redshift\n",
    "    df_tot = pd.concat([df_tot,df_i])"
   ]
  },
  {
   "cell_type": "code",
   "execution_count": 74,
   "id": "1ec94daf-b3cc-4394-9fcf-0ba69958792d",
   "metadata": {},
   "outputs": [
    {
     "data": {
      "text/html": [
       "<div>\n",
       "<style scoped>\n",
       "    .dataframe tbody tr th:only-of-type {\n",
       "        vertical-align: middle;\n",
       "    }\n",
       "\n",
       "    .dataframe tbody tr th {\n",
       "        vertical-align: top;\n",
       "    }\n",
       "\n",
       "    .dataframe thead th {\n",
       "        text-align: right;\n",
       "    }\n",
       "</style>\n",
       "<table border=\"1\" class=\"dataframe\">\n",
       "  <thead>\n",
       "    <tr style=\"text-align: right;\">\n",
       "      <th></th>\n",
       "      <th>wav</th>\n",
       "      <th>flx</th>\n",
       "      <th>ferr</th>\n",
       "      <th>res</th>\n",
       "      <th>dloglam</th>\n",
       "      <th>qso_idx</th>\n",
       "      <th>redshift</th>\n",
       "      <th>wav_rest</th>\n",
       "    </tr>\n",
       "  </thead>\n",
       "  <tbody>\n",
       "    <tr>\n",
       "      <th>0</th>\n",
       "      <td>3099.92</td>\n",
       "      <td>-6.284100e-15</td>\n",
       "      <td>3.814920e-15</td>\n",
       "      <td>20.0</td>\n",
       "      <td>0.00003</td>\n",
       "      <td>0</td>\n",
       "      <td>3.508157</td>\n",
       "      <td>687.624677</td>\n",
       "    </tr>\n",
       "    <tr>\n",
       "      <th>1</th>\n",
       "      <td>3100.14</td>\n",
       "      <td>2.241830e-15</td>\n",
       "      <td>8.739010e-16</td>\n",
       "      <td>20.0</td>\n",
       "      <td>0.00003</td>\n",
       "      <td>0</td>\n",
       "      <td>3.508157</td>\n",
       "      <td>687.673477</td>\n",
       "    </tr>\n",
       "    <tr>\n",
       "      <th>2</th>\n",
       "      <td>3100.35</td>\n",
       "      <td>-3.037350e-16</td>\n",
       "      <td>8.631970e-16</td>\n",
       "      <td>20.0</td>\n",
       "      <td>0.00003</td>\n",
       "      <td>0</td>\n",
       "      <td>3.508157</td>\n",
       "      <td>687.720059</td>\n",
       "    </tr>\n",
       "    <tr>\n",
       "      <th>3</th>\n",
       "      <td>3100.57</td>\n",
       "      <td>-4.876140e-16</td>\n",
       "      <td>8.258850e-16</td>\n",
       "      <td>20.0</td>\n",
       "      <td>0.00003</td>\n",
       "      <td>0</td>\n",
       "      <td>3.508157</td>\n",
       "      <td>687.768860</td>\n",
       "    </tr>\n",
       "    <tr>\n",
       "      <th>4</th>\n",
       "      <td>3100.78</td>\n",
       "      <td>1.387870e-15</td>\n",
       "      <td>8.353000e-16</td>\n",
       "      <td>20.0</td>\n",
       "      <td>0.00003</td>\n",
       "      <td>0</td>\n",
       "      <td>3.508157</td>\n",
       "      <td>687.815442</td>\n",
       "    </tr>\n",
       "    <tr>\n",
       "      <th>...</th>\n",
       "      <td>...</td>\n",
       "      <td>...</td>\n",
       "      <td>...</td>\n",
       "      <td>...</td>\n",
       "      <td>...</td>\n",
       "      <td>...</td>\n",
       "      <td>...</td>\n",
       "      <td>...</td>\n",
       "    </tr>\n",
       "    <tr>\n",
       "      <th>17236</th>\n",
       "      <td>10196.00</td>\n",
       "      <td>3.224590e-16</td>\n",
       "      <td>2.578330e-17</td>\n",
       "      <td>11.0</td>\n",
       "      <td>0.00003</td>\n",
       "      <td>0</td>\n",
       "      <td>3.508157</td>\n",
       "      <td>2261.678109</td>\n",
       "    </tr>\n",
       "    <tr>\n",
       "      <th>17237</th>\n",
       "      <td>10196.70</td>\n",
       "      <td>3.828660e-16</td>\n",
       "      <td>2.603240e-17</td>\n",
       "      <td>11.0</td>\n",
       "      <td>0.00003</td>\n",
       "      <td>0</td>\n",
       "      <td>3.508157</td>\n",
       "      <td>2261.833383</td>\n",
       "    </tr>\n",
       "    <tr>\n",
       "      <th>17238</th>\n",
       "      <td>10197.40</td>\n",
       "      <td>2.558530e-16</td>\n",
       "      <td>2.532800e-17</td>\n",
       "      <td>11.0</td>\n",
       "      <td>0.00003</td>\n",
       "      <td>0</td>\n",
       "      <td>3.508157</td>\n",
       "      <td>2261.988657</td>\n",
       "    </tr>\n",
       "    <tr>\n",
       "      <th>17239</th>\n",
       "      <td>10198.10</td>\n",
       "      <td>2.994760e-16</td>\n",
       "      <td>2.593270e-17</td>\n",
       "      <td>11.0</td>\n",
       "      <td>0.00003</td>\n",
       "      <td>0</td>\n",
       "      <td>3.508157</td>\n",
       "      <td>2262.143932</td>\n",
       "    </tr>\n",
       "    <tr>\n",
       "      <th>17240</th>\n",
       "      <td>10198.80</td>\n",
       "      <td>2.484990e-16</td>\n",
       "      <td>3.567150e-17</td>\n",
       "      <td>11.0</td>\n",
       "      <td>0.00003</td>\n",
       "      <td>0</td>\n",
       "      <td>3.508157</td>\n",
       "      <td>2262.299206</td>\n",
       "    </tr>\n",
       "  </tbody>\n",
       "</table>\n",
       "<p>17241 rows × 8 columns</p>\n",
       "</div>"
      ],
      "text/plain": [
       "            wav           flx          ferr   res  dloglam  qso_idx  redshift  \\\n",
       "0       3099.92 -6.284100e-15  3.814920e-15  20.0  0.00003        0  3.508157   \n",
       "1       3100.14  2.241830e-15  8.739010e-16  20.0  0.00003        0  3.508157   \n",
       "2       3100.35 -3.037350e-16  8.631970e-16  20.0  0.00003        0  3.508157   \n",
       "3       3100.57 -4.876140e-16  8.258850e-16  20.0  0.00003        0  3.508157   \n",
       "4       3100.78  1.387870e-15  8.353000e-16  20.0  0.00003        0  3.508157   \n",
       "...         ...           ...           ...   ...      ...      ...       ...   \n",
       "17236  10196.00  3.224590e-16  2.578330e-17  11.0  0.00003        0  3.508157   \n",
       "17237  10196.70  3.828660e-16  2.603240e-17  11.0  0.00003        0  3.508157   \n",
       "17238  10197.40  2.558530e-16  2.532800e-17  11.0  0.00003        0  3.508157   \n",
       "17239  10198.10  2.994760e-16  2.593270e-17  11.0  0.00003        0  3.508157   \n",
       "17240  10198.80  2.484990e-16  3.567150e-17  11.0  0.00003        0  3.508157   \n",
       "\n",
       "          wav_rest  \n",
       "0       687.624677  \n",
       "1       687.673477  \n",
       "2       687.720059  \n",
       "3       687.768860  \n",
       "4       687.815442  \n",
       "...            ...  \n",
       "17236  2261.678109  \n",
       "17237  2261.833383  \n",
       "17238  2261.988657  \n",
       "17239  2262.143932  \n",
       "17240  2262.299206  \n",
       "\n",
       "[17241 rows x 8 columns]"
      ]
     },
     "execution_count": 74,
     "metadata": {},
     "output_type": "execute_result"
    }
   ],
   "source": [
    "df_tot[\"wav_rest\"] = df_tot[\"wav\"]/(1+df_tot[\"redshift\"]) #.groupby(\"qso_idx\")\n",
    "df_tot[df_tot.qso_idx==0]"
   ]
  },
  {
   "cell_type": "code",
   "execution_count": 92,
   "id": "8d13439d-475f-44c7-873f-236d08f6403e",
   "metadata": {},
   "outputs": [
    {
     "data": {
      "text/plain": [
       "(-1e-15, 1e-15)"
      ]
     },
     "execution_count": 92,
     "metadata": {},
     "output_type": "execute_result"
    },
    {
     "data": {
      "image/png": "[encoded data removed]",
      "text/plain": [
       "<Figure size 640x480 with 1 Axes>"
      ]
     },
     "metadata": {},
     "output_type": "display_data"
    }
   ],
   "source": [
    "plt.scatter(df_tot.wav_rest, df_tot.flx,s=1)\n",
    "plt.ylim(-1e-15,1e-15)"
   ]
  },
  {
   "cell_type": "code",
   "execution_count": 104,
   "id": "e3cb2496-07f4-426a-8878-4bb096d49ad9",
   "metadata": {},
   "outputs": [
    {
     "data": {
      "text/plain": [
       "(0.17745610900419706, 0.0006358417641920302)"
      ]
     },
     "execution_count": 104,
     "metadata": {},
     "output_type": "execute_result"
    }
   ],
   "source": [
    "asdf = df_tot[\"wav_rest\"].values\n",
    "max(asdf[1:]-asdf[:-1]),np.mean(asdf[1:]-asdf[:-1])"
   ]
  },
  {
   "cell_type": "code",
   "execution_count": 88,
   "id": "ae11b7d5-ce8d-40e0-8ca1-211977374eb4",
   "metadata": {},
   "outputs": [
    {
     "data": {
      "text/plain": [
       "0       -6.284100e-15\n",
       "1        2.241830e-15\n",
       "2       -3.037350e-16\n",
       "3       -4.876140e-16\n",
       "4        1.387870e-15\n",
       "             ...     \n",
       "17236    4.711240e-16\n",
       "17237    6.075460e-16\n",
       "17238    6.501080e-16\n",
       "17239    6.133930e-16\n",
       "17240    6.807590e-16\n",
       "Name: flx, Length: 1724728, dtype: float64"
      ]
     },
     "execution_count": 88,
     "metadata": {},
     "output_type": "execute_result"
    }
   ],
   "source": [
    "df_tot.flx"
   ]
  },
  {
   "cell_type": "code",
   "execution_count": 82,
   "id": "77560e77-8339-43dd-96bd-3466e4dab3e1",
   "metadata": {},
   "outputs": [],
   "source": [
    "# df_tot[df_tot.qso_idx==1]\n"
   ]
  },
  {
   "cell_type": "code",
   "execution_count": 72,
   "id": "b2aeb8db-14df-483a-b575-0922e584f6ab",
   "metadata": {},
   "outputs": [],
   "source": [
    "# df_tot[\"wav_rest\"],df_tot[\"flx\"]"
   ]
  },
  {
   "cell_type": "code",
   "execution_count": 28,
   "id": "6467586b-2cae-4a97-9135-b4282c170bf3",
   "metadata": {},
   "outputs": [
    {
     "data": {
      "text/plain": [
       "(array([15., 23.,  7.,  9.,  9., 15.,  9.,  8.,  4.,  1.]),\n",
       " array([3.508157 , 3.6289338, 3.7497106, 3.8704874, 3.9912642, 4.112041 ,\n",
       "        4.2328178, 4.3535946, 4.4743714, 4.5951482, 4.715925 ]),\n",
       " <BarContainer object of 10 artists>)"
      ]
     },
     "execution_count": 28,
     "metadata": {},
     "output_type": "execute_result"
    },
    {
     "data": {
      "image/png": "[encoded data removed]",
      "text/plain": [
       "<Figure size 640x480 with 1 Axes>"
      ]
     },
     "metadata": {},
     "output_type": "display_data"
    }
   ],
   "source": [
    "# plt.plot(df.wav, df.flx)\n",
    "plt.hist(catalog_table[\"redshifts\"].values)"
   ]
  },
  {
   "cell_type": "code",
   "execution_count": 37,
   "id": "3615125c-621a-4659-8a23-e553d07c3a70",
   "metadata": {},
   "outputs": [
    {
     "data": {
      "text/plain": [
       "29"
      ]
     },
     "execution_count": 37,
     "metadata": {},
     "output_type": "execute_result"
    }
   ],
   "source": [
    "redshifts = catalog_table[\"redshifts\"].values\n",
    "np.sum((redshifts>3.6)&(redshifts<3.8))"
   ]
  }
 ],
 "metadata": {
  "kernelspec": {
   "display_name": "Python 3 (ipykernel)",
   "language": "python",
   "name": "python3"
  },
  "language_info": {
   "codemirror_mode": {
    "name": "ipython",
    "version": 3
   },
   "file_extension": ".py",
   "mimetype": "text/x-python",
   "name": "python",
   "nbconvert_exporter": "python",
   "pygments_lexer": "ipython3",
   "version": "3.10.6"
  }
 },
 "nbformat": 4,
 "nbformat_minor": 5
}
